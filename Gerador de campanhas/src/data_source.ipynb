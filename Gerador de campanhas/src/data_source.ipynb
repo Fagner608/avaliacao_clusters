{
 "cells": [
  {
   "cell_type": "markdown",
   "id": "63e06306",
   "metadata": {},
   "source": [
    "**Obter dados do período de ressaque dos últimos 6 meses**\n",
    "\n",
    "Deve conter:\n",
    "\n",
    "1 - valor emissão\n",
    "\n",
    "2 - data\n",
    "\n",
    "3 - id parceiro"
   ]
  },
  {
   "cell_type": "markdown",
   "id": "e3b227b2",
   "metadata": {},
   "source": []
  },
  {
   "cell_type": "code",
   "execution_count": 2,
   "id": "ae8c8ece",
   "metadata": {},
   "outputs": [],
   "source": [
    "import polars as pl"
   ]
  },
  {
   "cell_type": "code",
   "execution_count": 7,
   "id": "9496e0ee",
   "metadata": {},
   "outputs": [],
   "source": [
    "amostra = pl.read_csv(\"../input_data/amostra.csv\", schema_overrides={'issue_amount': pl.Float64,\n",
    "                                                                    'created_at': pl.Datetime,\n",
    "                                                                    \"nome_tabela\": pl.String,\n",
    "                                                                    'cod_master': pl.String})"
   ]
  },
  {
   "cell_type": "code",
   "execution_count": 8,
   "id": "0e4e3406",
   "metadata": {},
   "outputs": [
    {
     "data": {
      "text/html": [
       "<div><style>\n",
       ".dataframe > thead > tr,\n",
       ".dataframe > tbody > tr {\n",
       "  text-align: right;\n",
       "  white-space: pre-wrap;\n",
       "}\n",
       "</style>\n",
       "<small>shape: (5, 4)</small><table border=\"1\" class=\"dataframe\"><thead><tr><th>issue_amount</th><th>created_at</th><th>nome_tabela</th><th>cod_master</th></tr><tr><td>f64</td><td>datetime[μs]</td><td>str</td><td>str</td></tr></thead><tbody><tr><td>176.31</td><td>2025-06-23 21:29:36.874</td><td>&quot;AN0010&quot;</td><td>&quot;10922&quot;</td></tr><tr><td>51.66</td><td>2025-06-25 13:35:28.025</td><td>&quot;BR0025&quot;</td><td>&quot;11059&quot;</td></tr><tr><td>4161.46</td><td>2025-06-24 14:17:46.029</td><td>&quot;BR0029&quot;</td><td>&quot;8173&quot;</td></tr><tr><td>186.52</td><td>2025-06-25 12:52:38.522</td><td>&quot;BR0025&quot;</td><td>&quot;12175&quot;</td></tr><tr><td>299.48</td><td>2025-06-27 17:54:40.295</td><td>&quot;AN0010&quot;</td><td>&quot;0545&quot;</td></tr></tbody></table></div>"
      ],
      "text/plain": [
       "shape: (5, 4)\n",
       "┌──────────────┬─────────────────────────┬─────────────┬────────────┐\n",
       "│ issue_amount ┆ created_at              ┆ nome_tabela ┆ cod_master │\n",
       "│ ---          ┆ ---                     ┆ ---         ┆ ---        │\n",
       "│ f64          ┆ datetime[μs]            ┆ str         ┆ str        │\n",
       "╞══════════════╪═════════════════════════╪═════════════╪════════════╡\n",
       "│ 176.31       ┆ 2025-06-23 21:29:36.874 ┆ AN0010      ┆ 10922      │\n",
       "│ 51.66        ┆ 2025-06-25 13:35:28.025 ┆ BR0025      ┆ 11059      │\n",
       "│ 4161.46      ┆ 2025-06-24 14:17:46.029 ┆ BR0029      ┆ 8173       │\n",
       "│ 186.52       ┆ 2025-06-25 12:52:38.522 ┆ BR0025      ┆ 12175      │\n",
       "│ 299.48       ┆ 2025-06-27 17:54:40.295 ┆ AN0010      ┆ 0545       │\n",
       "└──────────────┴─────────────────────────┴─────────────┴────────────┘"
      ]
     },
     "execution_count": 8,
     "metadata": {},
     "output_type": "execute_result"
    }
   ],
   "source": [
    "amostra.sample(5)"
   ]
  },
  {
   "cell_type": "code",
   "execution_count": 9,
   "id": "d46fbf93",
   "metadata": {},
   "outputs": [
    {
     "data": {
      "text/plain": [
       "(202741, 4)"
      ]
     },
     "execution_count": 9,
     "metadata": {},
     "output_type": "execute_result"
    }
   ],
   "source": [
    "amostra.shape"
   ]
  },
  {
   "cell_type": "markdown",
   "id": "25e27782",
   "metadata": {},
   "source": [
    "**Sumarizando valores**"
   ]
  },
  {
   "cell_type": "code",
   "execution_count": null,
   "id": "12c3985c",
   "metadata": {},
   "outputs": [],
   "source": [
    "import matplotlib.pyplot as plt\n",
    "import numpy as np\n",
    "from sklearn.cluster import KMeans"
   ]
  },
  {
   "cell_type": "code",
   "execution_count": 16,
   "id": "15cfe734",
   "metadata": {},
   "outputs": [
    {
     "name": "stderr",
     "output_type": "stream",
     "text": [
      "C:\\Users\\Cleiton - Financeiro\\AppData\\Local\\Temp\\ipykernel_15484\\589214298.py:3: DeprecationWarning: `pl.count()` is deprecated. Please use `pl.len()` instead.\n",
      "(Deprecated in version 0.20.5)\n",
      "  pl.count().alias(\"frequencia\")\n"
     ]
    }
   ],
   "source": [
    "sumarizacao_1 = amostra.group_by('cod_master').agg(\n",
    "    pl.col('issue_amount').sum().alias(\"total_produzido\"),\n",
    "    pl.count().alias(\"frequencia\")\n",
    ").sort('frequencia', descending=True)"
   ]
  },
  {
   "cell_type": "markdown",
   "id": "a3fa60b7",
   "metadata": {},
   "source": [
    "**Limpando e preparando para cálculo**"
   ]
  },
  {
   "cell_type": "code",
   "execution_count": 52,
   "id": "6e1fa330",
   "metadata": {},
   "outputs": [
    {
     "data": {
      "text/html": [
       "<div><style>\n",
       ".dataframe > thead > tr,\n",
       ".dataframe > tbody > tr {\n",
       "  text-align: right;\n",
       "  white-space: pre-wrap;\n",
       "}\n",
       "</style>\n",
       "<small>shape: (5, 3)</small><table border=\"1\" class=\"dataframe\"><thead><tr><th>cod_master</th><th>total_produzido</th><th>frequencia</th></tr><tr><td>str</td><td>f64</td><td>u32</td></tr></thead><tbody><tr><td>&quot;10793&quot;</td><td>844.69</td><td>2</td></tr><tr><td>&quot;7203&quot;</td><td>1434.81</td><td>3</td></tr><tr><td>&quot;7842&quot;</td><td>7838.48</td><td>28</td></tr><tr><td>&quot;7613&quot;</td><td>165320.81</td><td>566</td></tr><tr><td>&quot;7696&quot;</td><td>2829.81</td><td>1</td></tr></tbody></table></div>"
      ],
      "text/plain": [
       "shape: (5, 3)\n",
       "┌────────────┬─────────────────┬────────────┐\n",
       "│ cod_master ┆ total_produzido ┆ frequencia │\n",
       "│ ---        ┆ ---             ┆ ---        │\n",
       "│ str        ┆ f64             ┆ u32        │\n",
       "╞════════════╪═════════════════╪════════════╡\n",
       "│ 10793      ┆ 844.69          ┆ 2          │\n",
       "│ 7203       ┆ 1434.81         ┆ 3          │\n",
       "│ 7842       ┆ 7838.48         ┆ 28         │\n",
       "│ 7613       ┆ 165320.81       ┆ 566        │\n",
       "│ 7696       ┆ 2829.81         ┆ 1          │\n",
       "└────────────┴─────────────────┴────────────┘"
      ]
     },
     "execution_count": 52,
     "metadata": {},
     "output_type": "execute_result"
    }
   ],
   "source": [
    "sumarizacao_1.sample(5)"
   ]
  },
  {
   "cell_type": "code",
   "execution_count": 55,
   "id": "596a713b",
   "metadata": {},
   "outputs": [],
   "source": [
    "frequencia = sumarizacao_1['frequencia'].drop_nulls().to_numpy()\n",
    "valor = sumarizacao_1['total_produzido'].drop_nulls().to_numpy()"
   ]
  },
  {
   "cell_type": "code",
   "execution_count": 81,
   "id": "c9f53519",
   "metadata": {},
   "outputs": [],
   "source": [
    "# Outliers - com base no zscore\n",
    "media = np.mean(frequencia)\n",
    "desvio = np.std(frequencia)\n",
    "z_scores = (frequencia - media) / desvio\n",
    "limiar = 3\n",
    "outliers = z_scores > limiar\n",
    "\n"
   ]
  },
  {
   "cell_type": "code",
   "execution_count": 82,
   "id": "8bb3486e",
   "metadata": {},
   "outputs": [
    {
     "data": {
      "text/plain": [
       "array([ True,  True,  True, ..., False, False, False])"
      ]
     },
     "execution_count": 82,
     "metadata": {},
     "output_type": "execute_result"
    }
   ],
   "source": [
    "outliers"
   ]
  },
  {
   "cell_type": "code",
   "execution_count": 83,
   "id": "123e08d5",
   "metadata": {},
   "outputs": [],
   "source": [
    "outliers_groupy = sumarizacao_1.filter(pl.Series(outliers))\n",
    "not_outliers_groupy = sumarizacao_1.filter(pl.Series(~outliers))"
   ]
  },
  {
   "cell_type": "code",
   "execution_count": 84,
   "id": "7029e47e",
   "metadata": {},
   "outputs": [
    {
     "data": {
      "text/html": [
       "<div><style>\n",
       ".dataframe > thead > tr,\n",
       ".dataframe > tbody > tr {\n",
       "  text-align: right;\n",
       "  white-space: pre-wrap;\n",
       "}\n",
       "</style>\n",
       "<small>shape: (1_080,)</small><table border=\"1\" class=\"dataframe\"><thead><tr><th>frequencia</th></tr><tr><td>f64</td></tr></thead><tbody><tr><td>7.96728</td></tr><tr><td>7.892078</td></tr><tr><td>7.853993</td></tr><tr><td>7.844633</td></tr><tr><td>7.716461</td></tr><tr><td>&hellip;</td></tr><tr><td>0.0</td></tr><tr><td>0.0</td></tr><tr><td>0.0</td></tr><tr><td>0.0</td></tr><tr><td>0.0</td></tr></tbody></table></div>"
      ],
      "text/plain": [
       "shape: (1_080,)\n",
       "Series: 'frequencia' [f64]\n",
       "[\n",
       "\t7.96728\n",
       "\t7.892078\n",
       "\t7.853993\n",
       "\t7.844633\n",
       "\t7.716461\n",
       "\t…\n",
       "\t0.0\n",
       "\t0.0\n",
       "\t0.0\n",
       "\t0.0\n",
       "\t0.0\n",
       "]"
      ]
     },
     "execution_count": 84,
     "metadata": {},
     "output_type": "execute_result"
    }
   ],
   "source": [
    "# distribuição\n",
    "frequencia_log = np.log(not_outliers_groupy['frequencia'])\n",
    "frequencia_log"
   ]
  },
  {
   "cell_type": "code",
   "execution_count": 85,
   "id": "6143e752",
   "metadata": {},
   "outputs": [
    {
     "data": {
      "text/plain": [
       "(array([132., 116., 150., 170., 177., 144., 101.,  48.,  27.,  15.]),\n",
       " array([0.        , 0.79672802, 1.59345604, 2.39018405, 3.18691207,\n",
       "        3.98364009, 4.78036811, 5.57709613, 6.37382414, 7.17055216,\n",
       "        7.96728018]),\n",
       " <BarContainer object of 10 artists>)"
      ]
     },
     "execution_count": 85,
     "metadata": {},
     "output_type": "execute_result"
    },
    {
     "data": {
      "image/png": "[encoded data removed]",
      "text/plain": [
       "<Figure size 640x480 with 1 Axes>"
      ]
     },
     "metadata": {},
     "output_type": "display_data"
    }
   ],
   "source": [
    "plt.hist(frequencia_log)"
   ]
  },
  {
   "cell_type": "code",
   "execution_count": 86,
   "id": "8a7c4f22",
   "metadata": {},
   "outputs": [],
   "source": [
    "kmeans = KMeans(8)"
   ]
  },
  {
   "cell_type": "code",
   "execution_count": 90,
   "id": "a0ddfbe7",
   "metadata": {},
   "outputs": [
    {
     "data": {
      "text/plain": [
       "array([3, 3, 3, ..., 0, 0, 0])"
      ]
     },
     "execution_count": 90,
     "metadata": {},
     "output_type": "execute_result"
    }
   ],
   "source": [
    "k_v1 = kmeans.fit(not_outliers_groupy['frequencia'].to_numpy().reshape(-1, 1))\n",
    "labels = k_v1.labels_\n",
    "labels"
   ]
  },
  {
   "cell_type": "code",
   "execution_count": 91,
   "id": "ecaa7f57",
   "metadata": {},
   "outputs": [],
   "source": [
    "df_clusterized = not_outliers_groupy.with_columns(pl.Series(name = 'cluster', values=labels))"
   ]
  },
  {
   "cell_type": "code",
   "execution_count": 92,
   "id": "6747cf81",
   "metadata": {},
   "outputs": [
    {
     "data": {
      "text/html": [
       "<div><style>\n",
       ".dataframe > thead > tr,\n",
       ".dataframe > tbody > tr {\n",
       "  text-align: right;\n",
       "  white-space: pre-wrap;\n",
       "}\n",
       "</style>\n",
       "<small>shape: (5, 4)</small><table border=\"1\" class=\"dataframe\"><thead><tr><th>cod_master</th><th>total_produzido</th><th>frequencia</th><th>cluster</th></tr><tr><td>str</td><td>f64</td><td>u32</td><td>i32</td></tr></thead><tbody><tr><td>&quot;7821&quot;</td><td>383.43</td><td>1</td><td>0</td></tr><tr><td>&quot;7767&quot;</td><td>10274.51</td><td>57</td><td>4</td></tr><tr><td>&quot;0457&quot;</td><td>27462.75</td><td>35</td><td>0</td></tr><tr><td>&quot;10113&quot;</td><td>8508.36</td><td>28</td><td>0</td></tr><tr><td>&quot;7452&quot;</td><td>1137.7</td><td>4</td><td>0</td></tr></tbody></table></div>"
      ],
      "text/plain": [
       "shape: (5, 4)\n",
       "┌────────────┬─────────────────┬────────────┬─────────┐\n",
       "│ cod_master ┆ total_produzido ┆ frequencia ┆ cluster │\n",
       "│ ---        ┆ ---             ┆ ---        ┆ ---     │\n",
       "│ str        ┆ f64             ┆ u32        ┆ i32     │\n",
       "╞════════════╪═════════════════╪════════════╪═════════╡\n",
       "│ 7821       ┆ 383.43          ┆ 1          ┆ 0       │\n",
       "│ 7767       ┆ 10274.51        ┆ 57         ┆ 4       │\n",
       "│ 0457       ┆ 27462.75        ┆ 35         ┆ 0       │\n",
       "│ 10113      ┆ 8508.36         ┆ 28         ┆ 0       │\n",
       "│ 7452       ┆ 1137.7          ┆ 4          ┆ 0       │\n",
       "└────────────┴─────────────────┴────────────┴─────────┘"
      ]
     },
     "execution_count": 92,
     "metadata": {},
     "output_type": "execute_result"
    }
   ],
   "source": [
    "df_clusterized.sample(5)"
   ]
  },
  {
   "cell_type": "code",
   "execution_count": 94,
   "id": "24385b8b",
   "metadata": {},
   "outputs": [],
   "source": [
    "outliers_groupy_cluster = outliers_groupy.with_columns(pl.lit(9).alias('cluster'))"
   ]
  },
  {
   "cell_type": "code",
   "execution_count": 96,
   "id": "0a7b70f6",
   "metadata": {},
   "outputs": [],
   "source": [
    "df_concated_clusterized = pl.concat([df_clusterized, outliers_groupy_cluster])"
   ]
  },
  {
   "cell_type": "code",
   "execution_count": 99,
   "id": "0d4fccf3",
   "metadata": {},
   "outputs": [
    {
     "data": {
      "text/plain": [
       "<matplotlib.collections.PathCollection at 0x1f81a9666f0>"
      ]
     },
     "execution_count": 99,
     "metadata": {},
     "output_type": "execute_result"
    },
    {
     "data": {
      "image/png": "[encoded data removed]",
      "text/plain": [
       "<Figure size 640x480 with 1 Axes>"
      ]
     },
     "metadata": {},
     "output_type": "display_data"
    }
   ],
   "source": [
    "plt.scatter(x=df_concated_clusterized['frequencia'], y = df_concated_clusterized['total_produzido'], c = df_concated_clusterized['cluster'])"
   ]
  },
  {
   "cell_type": "code",
   "execution_count": 108,
   "id": "9c238bcd",
   "metadata": {},
   "outputs": [],
   "source": [
    "import seaborn as sns"
   ]
  },
  {
   "cell_type": "code",
   "execution_count": 104,
   "id": "3d578069",
   "metadata": {},
   "outputs": [
    {
     "data": {
      "text/html": [
       "<div><style>\n",
       ".dataframe > thead > tr,\n",
       ".dataframe > tbody > tr {\n",
       "  text-align: right;\n",
       "  white-space: pre-wrap;\n",
       "}\n",
       "</style>\n",
       "<small>shape: (5, 4)</small><table border=\"1\" class=\"dataframe\"><thead><tr><th>cod_master</th><th>total_produzido</th><th>frequencia</th><th>cluster</th></tr><tr><td>str</td><td>f64</td><td>u32</td><td>i32</td></tr></thead><tbody><tr><td>&quot;12229&quot;</td><td>110538.94</td><td>122</td><td>6</td></tr><tr><td>&quot;11980&quot;</td><td>3582.48</td><td>5</td><td>0</td></tr><tr><td>&quot;7458&quot;</td><td>8726.04</td><td>12</td><td>0</td></tr><tr><td>&quot;7327&quot;</td><td>661.38</td><td>4</td><td>0</td></tr><tr><td>&quot;11863&quot;</td><td>4963.06</td><td>27</td><td>0</td></tr></tbody></table></div>"
      ],
      "text/plain": [
       "shape: (5, 4)\n",
       "┌────────────┬─────────────────┬────────────┬─────────┐\n",
       "│ cod_master ┆ total_produzido ┆ frequencia ┆ cluster │\n",
       "│ ---        ┆ ---             ┆ ---        ┆ ---     │\n",
       "│ str        ┆ f64             ┆ u32        ┆ i32     │\n",
       "╞════════════╪═════════════════╪════════════╪═════════╡\n",
       "│ 12229      ┆ 110538.94       ┆ 122        ┆ 6       │\n",
       "│ 11980      ┆ 3582.48         ┆ 5          ┆ 0       │\n",
       "│ 7458       ┆ 8726.04         ┆ 12         ┆ 0       │\n",
       "│ 7327       ┆ 661.38          ┆ 4          ┆ 0       │\n",
       "│ 11863      ┆ 4963.06         ┆ 27         ┆ 0       │\n",
       "└────────────┴─────────────────┴────────────┴─────────┘"
      ]
     },
     "execution_count": 104,
     "metadata": {},
     "output_type": "execute_result"
    }
   ],
   "source": [
    "df_concated_clusterized.sample(5)"
   ]
  },
  {
   "cell_type": "code",
   "execution_count": 114,
   "id": "0f4e3c9f",
   "metadata": {},
   "outputs": [
    {
     "data": {
      "text/html": [
       "<div><style>\n",
       ".dataframe > thead > tr,\n",
       ".dataframe > tbody > tr {\n",
       "  text-align: right;\n",
       "  white-space: pre-wrap;\n",
       "}\n",
       "</style>\n",
       "<small>shape: (3, 9)</small><table border=\"1\" class=\"dataframe\"><thead><tr><th>column_0</th><th>column_1</th><th>column_2</th><th>column_3</th><th>column_4</th><th>column_5</th><th>column_6</th><th>column_7</th><th>column_8</th></tr><tr><td>str</td><td>str</td><td>str</td><td>str</td><td>str</td><td>str</td><td>str</td><td>str</td><td>str</td></tr></thead><tbody><tr><td>&quot;count&quot;</td><td>&quot;null_count&quot;</td><td>&quot;mean&quot;</td><td>&quot;std&quot;</td><td>&quot;min&quot;</td><td>&quot;25%&quot;</td><td>&quot;50%&quot;</td><td>&quot;75%&quot;</td><td>&quot;max&quot;</td></tr><tr><td>&quot;9.0&quot;</td><td>&quot;0.0&quot;</td><td>&quot;339951.9133333332&quot;</td><td>&quot;82290.91028919366&quot;</td><td>&quot;246364.2&quot;</td><td>&quot;261253.75999999983&quot;</td><td>&quot;348600.62999999954&quot;</td><td>&quot;389193.43000000017&quot;</td><td>&quot;459344.1200000001&quot;</td></tr><tr><td>&quot;9.0&quot;</td><td>&quot;0.0&quot;</td><td>&quot;1632.5555555555557&quot;</td><td>&quot;145.3316131396668&quot;</td><td>&quot;1389.0&quot;</td><td>&quot;1540.0&quot;</td><td>&quot;1643.0&quot;</td><td>&quot;1750.0&quot;</td><td>&quot;1823.0&quot;</td></tr></tbody></table></div>"
      ],
      "text/plain": [
       "shape: (3, 9)\n",
       "┌──────────┬───────────┬───────────┬───────────┬───┬───────────┬───────────┬───────────┬───────────┐\n",
       "│ column_0 ┆ column_1  ┆ column_2  ┆ column_3  ┆ … ┆ column_5  ┆ column_6  ┆ column_7  ┆ column_8  │\n",
       "│ ---      ┆ ---       ┆ ---       ┆ ---       ┆   ┆ ---       ┆ ---       ┆ ---       ┆ ---       │\n",
       "│ str      ┆ str       ┆ str       ┆ str       ┆   ┆ str       ┆ str       ┆ str       ┆ str       │\n",
       "╞══════════╪═══════════╪═══════════╪═══════════╪═══╪═══════════╪═══════════╪═══════════╪═══════════╡\n",
       "│ count    ┆ null_coun ┆ mean      ┆ std       ┆ … ┆ 25%       ┆ 50%       ┆ 75%       ┆ max       │\n",
       "│          ┆ t         ┆           ┆           ┆   ┆           ┆           ┆           ┆           │\n",
       "│ 9.0      ┆ 0.0       ┆ 339951.91 ┆ 82290.910 ┆ … ┆ 261253.75 ┆ 348600.62 ┆ 389193.43 ┆ 459344.12 │\n",
       "│          ┆           ┆ 33333332  ┆ 28919366  ┆   ┆ 999999983 ┆ 999999954 ┆ 000000017 ┆ 00000001  │\n",
       "│ 9.0      ┆ 0.0       ┆ 1632.5555 ┆ 145.33161 ┆ … ┆ 1540.0    ┆ 1643.0    ┆ 1750.0    ┆ 1823.0    │\n",
       "│          ┆           ┆ 555555557 ┆ 31396668  ┆   ┆           ┆           ┆           ┆           │\n",
       "└──────────┴───────────┴───────────┴───────────┴───┴───────────┴───────────┴───────────┴───────────┘"
      ]
     },
     "execution_count": 114,
     "metadata": {},
     "output_type": "execute_result"
    }
   ],
   "source": [
    "df_concated_clusterized.filter(pl.col('cluster') == 1).select(pl.col('total_produzido'), pl.col('frequencia')).describe().transpose()\n"
   ]
  },
  {
   "cell_type": "code",
   "execution_count": null,
   "id": "2f9245c0",
   "metadata": {},
   "outputs": [],
   "source": []
  }
 ],
 "metadata": {
  "kernelspec": {
   "display_name": "Python 3",
   "language": "python",
   "name": "python3"
  },
  "language_info": {
   "codemirror_mode": {
    "name": "ipython",
    "version": 3
   },
   "file_extension": ".py",
   "mimetype": "text/x-python",
   "name": "python",
   "nbconvert_exporter": "python",
   "pygments_lexer": "ipython3",
   "version": "3.12.3"
  }
 },
 "nbformat": 4,
 "nbformat_minor": 5
}
